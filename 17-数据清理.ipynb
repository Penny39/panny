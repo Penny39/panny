{
 "cells": [
  {
   "cell_type": "code",
   "execution_count": 4,
   "metadata": {},
   "outputs": [
    {
     "name": "stdout",
     "output_type": "stream",
     "text": [
      "原始 DataFrame：\n",
      "+---+---------+---------+---------+---------+\n",
      "|   | column1 | Column2 | Column3 | Column4 |\n",
      "+---+---------+---------+---------+---------+\n",
      "| 0 |   1.0   |   4.0   |   7.0   |   7.0   |\n",
      "| 1 |   nan   |   nan   |   8.0   |   8.0   |\n",
      "| 2 |   3.0   |   nan   |   9.0   |   9.0   |\n",
      "| 3 |   nan   |   nan   |   nan   |   nan   |\n",
      "+---+---------+---------+---------+---------+\n",
      "列出所有空白值：\n",
      "   column1  Column2  Column3  Column4\n",
      "1      NaN      NaN      8.0      8.0\n",
      "2      3.0      NaN      9.0      9.0\n",
      "3      NaN      NaN      NaN      NaN\n"
     ]
    }
   ],
   "source": [
    "import pandas as pd  \n",
    "from tabulate import tabulate  # 从tabulate模块中导入tabulate函数  \n",
    "  \n",
    "# 创建一个示例 DataFrame  \n",
    "data = {  \n",
    "    'column1': [1, None, 3, None],  \n",
    "    'Column2': [4, None, None, None],  \n",
    "    'Column3': [7, 8, 9, None],  \n",
    "    'Column4': [7, 8, 9, None]  \n",
    "}  \n",
    "df = pd.DataFrame(data)  \n",
    "print(\"原始 DataFrame：\")  \n",
    "print(tabulate(df, headers='keys', tablefmt='pretty'))  # 使用tabulate函数来美化打印DataFrame  \n",
    "  \n",
    "# 列出所有空白值  \n",
    "print(\"列出所有空白值：\")  \n",
    "print(df[df.isnull().T.any()])"
   ]
  },
  {
   "cell_type": "code",
   "execution_count": 5,
   "metadata": {},
   "outputs": [
    {
     "name": "stdout",
     "output_type": "stream",
     "text": [
      "列出所有空白值：\n"
     ]
    },
    {
     "data": {
      "text/html": [
       "<div>\n",
       "<style scoped>\n",
       "    .dataframe tbody tr th:only-of-type {\n",
       "        vertical-align: middle;\n",
       "    }\n",
       "\n",
       "    .dataframe tbody tr th {\n",
       "        vertical-align: top;\n",
       "    }\n",
       "\n",
       "    .dataframe thead th {\n",
       "        text-align: right;\n",
       "    }\n",
       "</style>\n",
       "<table border=\"1\" class=\"dataframe\">\n",
       "  <thead>\n",
       "    <tr style=\"text-align: right;\">\n",
       "      <th></th>\n",
       "      <th>column1</th>\n",
       "      <th>Column2</th>\n",
       "      <th>Column3</th>\n",
       "      <th>Column4</th>\n",
       "    </tr>\n",
       "  </thead>\n",
       "  <tbody>\n",
       "    <tr>\n",
       "      <th>0</th>\n",
       "      <td>False</td>\n",
       "      <td>False</td>\n",
       "      <td>False</td>\n",
       "      <td>False</td>\n",
       "    </tr>\n",
       "    <tr>\n",
       "      <th>1</th>\n",
       "      <td>True</td>\n",
       "      <td>True</td>\n",
       "      <td>False</td>\n",
       "      <td>False</td>\n",
       "    </tr>\n",
       "    <tr>\n",
       "      <th>2</th>\n",
       "      <td>False</td>\n",
       "      <td>True</td>\n",
       "      <td>False</td>\n",
       "      <td>False</td>\n",
       "    </tr>\n",
       "    <tr>\n",
       "      <th>3</th>\n",
       "      <td>True</td>\n",
       "      <td>True</td>\n",
       "      <td>True</td>\n",
       "      <td>True</td>\n",
       "    </tr>\n",
       "  </tbody>\n",
       "</table>\n",
       "</div>"
      ],
      "text/plain": [
       "   column1  Column2  Column3  Column4\n",
       "0    False    False    False    False\n",
       "1     True     True    False    False\n",
       "2    False     True    False    False\n",
       "3     True     True     True     True"
      ]
     },
     "execution_count": 5,
     "metadata": {},
     "output_type": "execute_result"
    }
   ],
   "source": [
    "# 列出所有空白值  \n",
    "print(\"列出所有空白值：\")  \n",
    "df.isnull()"
   ]
  },
  {
   "cell_type": "code",
   "execution_count": 6,
   "metadata": {},
   "outputs": [
    {
     "name": "stdout",
     "output_type": "stream",
     "text": [
      "列出所有空白值：\n"
     ]
    },
    {
     "data": {
      "text/html": [
       "<div>\n",
       "<style scoped>\n",
       "    .dataframe tbody tr th:only-of-type {\n",
       "        vertical-align: middle;\n",
       "    }\n",
       "\n",
       "    .dataframe tbody tr th {\n",
       "        vertical-align: top;\n",
       "    }\n",
       "\n",
       "    .dataframe thead th {\n",
       "        text-align: right;\n",
       "    }\n",
       "</style>\n",
       "<table border=\"1\" class=\"dataframe\">\n",
       "  <thead>\n",
       "    <tr style=\"text-align: right;\">\n",
       "      <th></th>\n",
       "      <th>0</th>\n",
       "      <th>1</th>\n",
       "      <th>2</th>\n",
       "      <th>3</th>\n",
       "    </tr>\n",
       "  </thead>\n",
       "  <tbody>\n",
       "    <tr>\n",
       "      <th>column1</th>\n",
       "      <td>False</td>\n",
       "      <td>True</td>\n",
       "      <td>False</td>\n",
       "      <td>True</td>\n",
       "    </tr>\n",
       "    <tr>\n",
       "      <th>Column2</th>\n",
       "      <td>False</td>\n",
       "      <td>True</td>\n",
       "      <td>True</td>\n",
       "      <td>True</td>\n",
       "    </tr>\n",
       "    <tr>\n",
       "      <th>Column3</th>\n",
       "      <td>False</td>\n",
       "      <td>False</td>\n",
       "      <td>False</td>\n",
       "      <td>True</td>\n",
       "    </tr>\n",
       "    <tr>\n",
       "      <th>Column4</th>\n",
       "      <td>False</td>\n",
       "      <td>False</td>\n",
       "      <td>False</td>\n",
       "      <td>True</td>\n",
       "    </tr>\n",
       "  </tbody>\n",
       "</table>\n",
       "</div>"
      ],
      "text/plain": [
       "             0      1      2     3\n",
       "column1  False   True  False  True\n",
       "Column2  False   True   True  True\n",
       "Column3  False  False  False  True\n",
       "Column4  False  False  False  True"
      ]
     },
     "execution_count": 6,
     "metadata": {},
     "output_type": "execute_result"
    }
   ],
   "source": [
    "# 列出所有空白值  \n",
    "print(\"列出所有空白值：\")  \n",
    "df.isnull().T"
   ]
  },
  {
   "cell_type": "code",
   "execution_count": 7,
   "metadata": {},
   "outputs": [
    {
     "name": "stdout",
     "output_type": "stream",
     "text": [
      "处理后的 DataFrame：\n",
      "   column1  Column2  Column3  Column4\n",
      "0      1.0      4.0      7.0      7.0\n",
      "1      NaN      NaN      8.0      8.0\n",
      "2      3.0      NaN      9.0      9.0\n"
     ]
    }
   ],
   "source": [
    "df.dropna(how='all', inplace=True)  \n",
    "# 打印处理后的 DataFrame  \n",
    "print(\"处理后的 DataFrame：\")  \n",
    "print(df)"
   ]
  },
  {
   "cell_type": "code",
   "execution_count": 8,
   "metadata": {},
   "outputs": [
    {
     "data": {
      "text/html": [
       "<div>\n",
       "<style scoped>\n",
       "    .dataframe tbody tr th:only-of-type {\n",
       "        vertical-align: middle;\n",
       "    }\n",
       "\n",
       "    .dataframe tbody tr th {\n",
       "        vertical-align: top;\n",
       "    }\n",
       "\n",
       "    .dataframe thead th {\n",
       "        text-align: right;\n",
       "    }\n",
       "</style>\n",
       "<table border=\"1\" class=\"dataframe\">\n",
       "  <thead>\n",
       "    <tr style=\"text-align: right;\">\n",
       "      <th></th>\n",
       "      <th>column1</th>\n",
       "      <th>Column2</th>\n",
       "      <th>Column3</th>\n",
       "      <th>Column4</th>\n",
       "    </tr>\n",
       "  </thead>\n",
       "  <tbody>\n",
       "    <tr>\n",
       "      <th>0</th>\n",
       "      <td>1.0</td>\n",
       "      <td>4.0</td>\n",
       "      <td>7.0</td>\n",
       "      <td>7.0</td>\n",
       "    </tr>\n",
       "    <tr>\n",
       "      <th>1</th>\n",
       "      <td>NaN</td>\n",
       "      <td>NaN</td>\n",
       "      <td>8.0</td>\n",
       "      <td>8.0</td>\n",
       "    </tr>\n",
       "    <tr>\n",
       "      <th>2</th>\n",
       "      <td>3.0</td>\n",
       "      <td>NaN</td>\n",
       "      <td>9.0</td>\n",
       "      <td>9.0</td>\n",
       "    </tr>\n",
       "  </tbody>\n",
       "</table>\n",
       "</div>"
      ],
      "text/plain": [
       "   column1  Column2  Column3  Column4\n",
       "0      1.0      4.0      7.0      7.0\n",
       "1      NaN      NaN      8.0      8.0\n",
       "2      3.0      NaN      9.0      9.0"
      ]
     },
     "execution_count": 8,
     "metadata": {},
     "output_type": "execute_result"
    }
   ],
   "source": [
    "#删除所有列都是空值的行\n",
    "df1=df.dropna(how='all')  \n",
    "# 打印处理后的 DataFrame  \n",
    "df"
   ]
  },
  {
   "cell_type": "code",
   "execution_count": 9,
   "metadata": {},
   "outputs": [
    {
     "data": {
      "text/html": [
       "<div>\n",
       "<style scoped>\n",
       "    .dataframe tbody tr th:only-of-type {\n",
       "        vertical-align: middle;\n",
       "    }\n",
       "\n",
       "    .dataframe tbody tr th {\n",
       "        vertical-align: top;\n",
       "    }\n",
       "\n",
       "    .dataframe thead th {\n",
       "        text-align: right;\n",
       "    }\n",
       "</style>\n",
       "<table border=\"1\" class=\"dataframe\">\n",
       "  <thead>\n",
       "    <tr style=\"text-align: right;\">\n",
       "      <th></th>\n",
       "      <th>column1</th>\n",
       "      <th>Column2</th>\n",
       "      <th>Column3</th>\n",
       "      <th>Column4</th>\n",
       "    </tr>\n",
       "  </thead>\n",
       "  <tbody>\n",
       "    <tr>\n",
       "      <th>0</th>\n",
       "      <td>1.0</td>\n",
       "      <td>4.0</td>\n",
       "      <td>7.0</td>\n",
       "      <td>7.0</td>\n",
       "    </tr>\n",
       "    <tr>\n",
       "      <th>1</th>\n",
       "      <td>NaN</td>\n",
       "      <td>NaN</td>\n",
       "      <td>8.0</td>\n",
       "      <td>8.0</td>\n",
       "    </tr>\n",
       "    <tr>\n",
       "      <th>2</th>\n",
       "      <td>3.0</td>\n",
       "      <td>NaN</td>\n",
       "      <td>9.0</td>\n",
       "      <td>9.0</td>\n",
       "    </tr>\n",
       "  </tbody>\n",
       "</table>\n",
       "</div>"
      ],
      "text/plain": [
       "   column1  Column2  Column3  Column4\n",
       "0      1.0      4.0      7.0      7.0\n",
       "1      NaN      NaN      8.0      8.0\n",
       "2      3.0      NaN      9.0      9.0"
      ]
     },
     "execution_count": 9,
     "metadata": {},
     "output_type": "execute_result"
    }
   ],
   "source": [
    "df1"
   ]
  },
  {
   "cell_type": "code",
   "execution_count": 10,
   "metadata": {},
   "outputs": [
    {
     "name": "stdout",
     "output_type": "stream",
     "text": [
      "\n",
      "填充后的DataFrame:\n",
      "   column1  Column2  Column3  Column4\n",
      "0      1.0      4.0      7.0      7.0\n",
      "1      0.0      0.0      8.0      8.0\n",
      "2      3.0      0.0      9.0      9.0\n"
     ]
    }
   ],
   "source": [
    "# 将 NaN 价替换为0  \n",
    "df_filled = df.fillna(0)  \n",
    "  \n",
    "print(\"\\n填充后的DataFrame:\")  \n",
    "print(df_filled)"
   ]
  },
  {
   "cell_type": "code",
   "execution_count": 11,
   "metadata": {},
   "outputs": [
    {
     "data": {
      "text/html": [
       "<div>\n",
       "<style scoped>\n",
       "    .dataframe tbody tr th:only-of-type {\n",
       "        vertical-align: middle;\n",
       "    }\n",
       "\n",
       "    .dataframe tbody tr th {\n",
       "        vertical-align: top;\n",
       "    }\n",
       "\n",
       "    .dataframe thead th {\n",
       "        text-align: right;\n",
       "    }\n",
       "</style>\n",
       "<table border=\"1\" class=\"dataframe\">\n",
       "  <thead>\n",
       "    <tr style=\"text-align: right;\">\n",
       "      <th></th>\n",
       "      <th>column1</th>\n",
       "      <th>Column2</th>\n",
       "      <th>Column3</th>\n",
       "      <th>Column4</th>\n",
       "    </tr>\n",
       "  </thead>\n",
       "  <tbody>\n",
       "    <tr>\n",
       "      <th>0</th>\n",
       "      <td>1.0</td>\n",
       "      <td>4.0</td>\n",
       "      <td>7.0</td>\n",
       "      <td>7.0</td>\n",
       "    </tr>\n",
       "    <tr>\n",
       "      <th>1</th>\n",
       "      <td>空白值</td>\n",
       "      <td>空白值</td>\n",
       "      <td>8.0</td>\n",
       "      <td>8.0</td>\n",
       "    </tr>\n",
       "    <tr>\n",
       "      <th>2</th>\n",
       "      <td>3.0</td>\n",
       "      <td>空白值</td>\n",
       "      <td>9.0</td>\n",
       "      <td>9.0</td>\n",
       "    </tr>\n",
       "  </tbody>\n",
       "</table>\n",
       "</div>"
      ],
      "text/plain": [
       "  column1 Column2  Column3  Column4\n",
       "0     1.0     4.0      7.0      7.0\n",
       "1     空白值     空白值      8.0      8.0\n",
       "2     3.0     空白值      9.0      9.0"
      ]
     },
     "execution_count": 11,
     "metadata": {},
     "output_type": "execute_result"
    }
   ],
   "source": [
    "# 将 NaN 值替换为 0  \n",
    "df_filled = df.fillna('空白值')\n",
    "df_filled "
   ]
  },
  {
   "cell_type": "code",
   "execution_count": 12,
   "metadata": {},
   "outputs": [],
   "source": [
    "import mytools "
   ]
  },
  {
   "cell_type": "code",
   "execution_count": 13,
   "metadata": {},
   "outputs": [],
   "source": [
    "数据表 = mytools.读取SPSS数据文件(\"data\\identity.sav\", True)"
   ]
  },
  {
   "cell_type": "code",
   "execution_count": 14,
   "metadata": {},
   "outputs": [
    {
     "name": "stdout",
     "output_type": "stream",
     "text": [
      "使用标准差判断的异常值为：     value\n",
      "11    100\n",
      "使用IQR判断的异常值为：     value\n",
      "7      29\n",
      "8      30\n",
      "11    100\n"
     ]
    }
   ],
   "source": [
    "import pandas as pd\n",
    "\n",
    "# 示例数据\n",
    "data = {'value': [10, 12, 12, 13, 12, 11, 10, 29, 30, 11, 10, 100]}\n",
    "df = pd.DataFrame(data)\n",
    "\n",
    "# 计算均值和标准差\n",
    "mean = df['value'].mean()\n",
    "std = df['value'].std()\n",
    "condition1 = (df['value'] < mean - 3 * std) | (df['value'] > mean + 3 * std)\n",
    "# 识别异常值\n",
    "outliers1 = df[condition1]\n",
    "print('使用标准差判断的异常值为：',outliers1)\n",
    "\n",
    "# 计算 IQR\n",
    "Q1 = df['value'].quantile(0.25)\n",
    "Q3 = df['value'].quantile(0.75)\n",
    "IQR = Q3 - Q1\n",
    "\n",
    "# 识别异常值\n",
    "outliers2 = df[(df['value'] < Q1 - 1.5 * IQR) | (df['value'] > Q3 + 1.5 * IQR)]\n",
    "print('使用IQR判断的异常值为：',outliers2)"
   ]
  },
  {
   "cell_type": "code",
   "execution_count": 15,
   "metadata": {},
   "outputs": [],
   "source": [
    "数据表.drop_duplicates(subset=['问卷编号'],keep='first',inplace=True)"
   ]
  },
  {
   "cell_type": "code",
   "execution_count": 16,
   "metadata": {},
   "outputs": [
    {
     "data": {
      "text/plain": [
       "Unnamed: 0        int64\n",
       "average         float64\n",
       "country          object\n",
       "genre            object\n",
       "language         object\n",
       "release_date     object\n",
       "title            object\n",
       "votes           float64\n",
       "dtype: object"
      ]
     },
     "execution_count": 16,
     "metadata": {},
     "output_type": "execute_result"
    }
   ],
   "source": [
    "import pandas as pd\n",
    "df_movie = pd.read_csv(R'data\\movie_data_cleaned.csv')\n",
    "df_movie.dtypes"
   ]
  },
  {
   "cell_type": "code",
   "execution_count": 18,
   "metadata": {},
   "outputs": [],
   "source": [
    "df_movie.dropna(how='any',inplace=True)\n"
   ]
  },
  {
   "cell_type": "code",
   "execution_count": 19,
   "metadata": {},
   "outputs": [
    {
     "name": "stdout",
     "output_type": "stream",
     "text": [
      "Index([ 69, 183, 184, 294, 347, 374, 394, 412, 448, 467, 498, 561, 566, 595,\n",
      "       612, 615, 625, 643, 742, 745, 757, 769, 777, 813, 819, 824, 829, 836,\n",
      "       843, 848],\n",
      "      dtype='int64')\n"
     ]
    }
   ],
   "source": [
    "# 使用query\n",
    "condition = '会以中国人自豪吗==\"会\" and 会隐瞒身份吗==\"一定会\"'\n",
    "# 取得逻辑不一致数据的序号列表\n",
    "result = 数据表.query(condition).index\n",
    "print(result)\n",
    "# 使用drop函数删除指定\n",
    "数据表.drop(index=result,inplace=True)\n"
   ]
  }
 ],
 "metadata": {
  "kernelspec": {
   "display_name": "Python 3",
   "language": "python",
   "name": "python3"
  },
  "language_info": {
   "codemirror_mode": {
    "name": "ipython",
    "version": 3
   },
   "file_extension": ".py",
   "mimetype": "text/x-python",
   "name": "python",
   "nbconvert_exporter": "python",
   "pygments_lexer": "ipython3",
   "version": "3.8.10"
  }
 },
 "nbformat": 4,
 "nbformat_minor": 2
}
