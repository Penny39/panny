{
 "cells": [
  {
   "cell_type": "code",
   "execution_count": 3,
   "metadata": {},
   "outputs": [
    {
     "ename": "IndentationError",
     "evalue": "expected an indented block (2213847952.py, line 19)",
     "output_type": "error",
     "traceback": [
      "\u001b[1;36m  Cell \u001b[1;32mIn[3], line 19\u001b[1;36m\u001b[0m\n\u001b[1;33m    return'极强相关'\u001b[0m\n\u001b[1;37m    ^\u001b[0m\n\u001b[1;31mIndentationError\u001b[0m\u001b[1;31m:\u001b[0m expected an indented block\n"
     ]
    }
   ],
   "source": [
    "import pandas as pd  \n",
    "import matplotlib.pyplot as plt  \n",
    "from pyreadstat import pyreadstat  \n",
    "plt.rcParams[\"font.sans-serif\"] = [\"SimHei\"]  # 字体设置  \n",
    "  \n",
    "  \n",
    "def 读取SPSS数据文件(文件位置及名称, 是否保留标签值: bool):  \n",
    " 数据表, metadata = pyreadstat.read_sav(  \n",
    " 文件位置及名称, apply_value_formats=是否保留标签值, formats_as_ordered_category=True)  \n",
    "return 数据表  \n",
    "  \n",
    "  \n",
    "def 相关系数判断(系数:int):    \n",
    " \"\"\"    \n",
    "判断相关系数的强弱    \n",
    "    \n",
    " \"\"\"     \n",
    "if 系数 >= 0.8:    \n",
    "return'极强相关'    \n",
    "elif 系数 >= 0.6:  # 这里应该是表达式，不应有冒号  \n",
    " return'强相关'    \n",
    " elif 系数 >= 0.4:    \n",
    " return'中等强度相关'    \n",
    " elif 系数 >= 0.2:    \n",
    " return'弱相关'    \n",
    " else:    \n",
    " return'极弱相关或无相关'\n",
    "  \n",
    "  \n",
    "def goodmanKruska_tau_y(df, x: str, y: str) -> float:  \n",
    " \"\"\" 取得条件次数表 \"\"\"  \n",
    " cft = pd.crosstab(df[y], df[x], margins=True)  \n",
    " \"\"\" 取得全部个案数目 \"\"\"  \n",
    " n = cft.at['All', 'All']  \n",
    " \"\"\" 初始化变量 \"\"\"  \n",
    " E_1 = E_2 = tau_y = 0  \n",
    "  \n",
    " \"\"\" 计算E_1 \"\"\"  \n",
    " for i in range(cft.shape[0] - 1):  \n",
    " F_y = cft['All'][i]  \n",
    " E_1 += ((n - F_y) * F_y) / n  \n",
    " \"\"\" 计算E_2 \"\"\"  \n",
    "for j in range(cft.shape[1] - 1):  \n",
    " for k in range(cft.shape[0] - 1):  \n",
    " F_x = cft.iloc[cft.shape[0] - 1, j]  \n",
    " f = cft.iloc[k, j]  \n",
    " E_2 += ((F_x - f) * f) / F_x  \n",
    " \"\"\" 计算tauy \"\"\"  \n",
    " tau_y = (E_1 - E_2) / E_1  \n",
    "  \n",
    " return tau_y  \n",
    "  \n",
    "  \n",
    "def 有序变量描述统计函数(表名, 变量名):  \n",
    " result = 表名[变量名].value_counts(sort=False)  \n",
    " 描述统计表 = pd.DataFrame(result)  \n",
    "描述统计表['比例'] = 描述统计表['count'] / 描述统计表['count'].sum()  \n",
    " 描述统计表['累计比例'] = 描述统计表['比例'].cumsum()  \n",
    " return 描述统计表  \n",
    "  \n",
    "def 绘制直方图(表名):  \n",
    " x = 表名.index  \n",
    " y = 表名['count'].values  \n",
    " fig, ax2 = plt.subplots()  \n",
    " ax2.bar(x, y)  \n",
    " plt.show()    # 这里不需要注释符号，所以我把这一行注释掉了。"
   ]
  },
  {
   "cell_type": "code",
   "execution_count": 22,
   "metadata": {},
   "outputs": [],
   "source": [
    "import mytools"
   ]
  },
  {
   "cell_type": "code",
   "execution_count": 23,
   "metadata": {},
   "outputs": [],
   "source": [
    "def 相关系数判断(系数: int):  \n",
    "    \"\"\"  \n",
    "    判断相关系数的强弱  \n",
    "    \"\"\"  \n",
    "    if 系数 >= 0.8:  \n",
    "        return '极强相关'  \n",
    "    elif 系数 >= 0.6:  \n",
    "        return '强相关'  \n",
    "    elif 系数 >= 0.4:  \n",
    "        return '中等强度相关'   \n",
    "    elif 系数 >= 0.2:  \n",
    "        return '弱相关'   \n",
    "    else:  \n",
    "        return '极弱相关或无相关'"
   ]
  },
  {
   "cell_type": "code",
   "execution_count": 24,
   "metadata": {},
   "outputs": [
    {
     "ename": "AttributeError",
     "evalue": "module 'mytools' has no attribute '相关系数判断'",
     "output_type": "error",
     "traceback": [
      "\u001b[1;31m---------------------------------------------------------------------------\u001b[0m",
      "\u001b[1;31mAttributeError\u001b[0m                            Traceback (most recent call last)",
      "\u001b[1;32mc:\\Users\\p\\Desktop\\panny\\13-双变量描述统计.ipynb 单元格 3\u001b[0m line \u001b[0;36m1\n\u001b[1;32m----> <a href='vscode-notebook-cell:/c%3A/Users/p/Desktop/panny/13-%E5%8F%8C%E5%8F%98%E9%87%8F%E6%8F%8F%E8%BF%B0%E7%BB%9F%E8%AE%A1.ipynb#W1sZmlsZQ%3D%3D?line=0'>1</a>\u001b[0m mytools\u001b[39m.\u001b[39;49m相关系数判断(\u001b[39m0.2056\u001b[39m)\n",
      "\u001b[1;31mAttributeError\u001b[0m: module 'mytools' has no attribute '相关系数判断'"
     ]
    }
   ],
   "source": [
    "mytools.相关系数判断(0.2056)"
   ]
  },
  {
   "cell_type": "code",
   "execution_count": 26,
   "metadata": {},
   "outputs": [
    {
     "ename": "TypeError",
     "evalue": "读取SPSS数据文件() got an unexpected keyword argument 'keep_labels'",
     "output_type": "error",
     "traceback": [
      "\u001b[1;31m---------------------------------------------------------------------------\u001b[0m",
      "\u001b[1;31mTypeError\u001b[0m                                 Traceback (most recent call last)",
      "\u001b[1;32mc:\\Users\\p\\Desktop\\panny\\13-双变量描述统计.ipynb 单元格 4\u001b[0m line \u001b[0;36m1\n\u001b[1;32m----> <a href='vscode-notebook-cell:/c%3A/Users/p/Desktop/panny/13-%E5%8F%8C%E5%8F%98%E9%87%8F%E6%8F%8F%E8%BF%B0%E7%BB%9F%E8%AE%A1.ipynb#W6sZmlsZQ%3D%3D?line=0'>1</a>\u001b[0m 数据表 \u001b[39m=\u001b[39m mytools\u001b[39m.\u001b[39;49m读取SPSS数据文件(\u001b[39mR\u001b[39;49m\u001b[39m'\u001b[39;49m\u001b[39mdata\u001b[39;49m\u001b[39m\\\u001b[39;49m\u001b[39midentity.sav\u001b[39;49m\u001b[39m'\u001b[39;49m, keep_labels\u001b[39m=\u001b[39;49m\u001b[39mTrue\u001b[39;49;00m)\n",
      "\u001b[1;31mTypeError\u001b[0m: 读取SPSS数据文件() got an unexpected keyword argument 'keep_labels'"
     ]
    }
   ],
   "source": [
    "数据表 = mytools.读取SPSS数据文件(R'data\\identity.sav', keep_labels=True)"
   ]
  },
  {
   "cell_type": "code",
   "execution_count": 25,
   "metadata": {},
   "outputs": [
    {
     "ename": "TypeError",
     "evalue": "读取SPSS数据文件() missing 1 required positional argument: '是否保留标签值'",
     "output_type": "error",
     "traceback": [
      "\u001b[1;31m---------------------------------------------------------------------------\u001b[0m",
      "\u001b[1;31mTypeError\u001b[0m                                 Traceback (most recent call last)",
      "\u001b[1;32mc:\\Users\\p\\Desktop\\panny\\13-双变量描述统计.ipynb 单元格 4\u001b[0m line \u001b[0;36m1\n\u001b[1;32m----> <a href='vscode-notebook-cell:/c%3A/Users/p/Desktop/panny/13-%E5%8F%8C%E5%8F%98%E9%87%8F%E6%8F%8F%E8%BF%B0%E7%BB%9F%E8%AE%A1.ipynb#W5sZmlsZQ%3D%3D?line=0'>1</a>\u001b[0m 数据表\u001b[39m=\u001b[39mmytools\u001b[39m.\u001b[39;49m读取SPSS数据文件(\u001b[39mR\u001b[39;49m\u001b[39m'\u001b[39;49m\u001b[39mdata\u001b[39;49m\u001b[39m\\\u001b[39;49m\u001b[39midentity.sav\u001b[39;49m\u001b[39m'\u001b[39;49m)\n",
      "\u001b[1;31mTypeError\u001b[0m: 读取SPSS数据文件() missing 1 required positional argument: '是否保留标签值'"
     ]
    }
   ],
   "source": [
    "数据表=mytools.读取SPSS数据文件(R'data\\identity.sav')"
   ]
  },
  {
   "cell_type": "code",
   "execution_count": null,
   "metadata": {},
   "outputs": [],
   "source": []
  }
 ],
 "metadata": {
  "kernelspec": {
   "display_name": "Python 3",
   "language": "python",
   "name": "python3"
  },
  "language_info": {
   "codemirror_mode": {
    "name": "ipython",
    "version": 3
   },
   "file_extension": ".py",
   "mimetype": "text/x-python",
   "name": "python",
   "nbconvert_exporter": "python",
   "pygments_lexer": "ipython3",
   "version": "3.8.10"
  }
 },
 "nbformat": 4,
 "nbformat_minor": 2
}
