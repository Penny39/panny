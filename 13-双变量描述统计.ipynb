{
 "cells": [
  {
   "cell_type": "code",
   "execution_count": 25,
   "metadata": {},
   "outputs": [],
   "source": [
    "import pandas as pd\n",
    "import matplotlib.pyplot as plt\n",
    "from pyreadstat import pyreadstat\n",
    "plt.rcParams[\"font.sans-serif\"] = [\"SimHei\"]  # 设置字体\n",
    "\n",
    "\n",
    "def 读取SPSS数据文件(文件位置及名称, 是否保留标签值: bool):\n",
    "    数据表, metadata = pyreadstat.read_sav(\n",
    "        文件位置及名称, apply_value_formats=是否保留标签值, formats_as_ordered_category=True)\n",
    "    return 数据表\n",
    "\n",
    "\n",
    "def 相关系数判断(系数:int):\n",
    "    \"\"\"\n",
    "    判断相关系数的强弱\n",
    "\n",
    "    \"\"\" \n",
    "    if 系数 >= 0.8:\n",
    "        return'极强相关'\n",
    "    elif 系数 >= 0.6:\n",
    "        return'强相关'\n",
    "    elif 系数 >= 0.4:\n",
    "        return'中等强度相关'\n",
    "    elif 系数 >= 0.2:\n",
    "        return'弱相关'\n",
    "    else:\n",
    "        return'极弱相关或无相关'\n",
    "\n",
    "\n",
    "def goodmanKruska_tau_y(df, x: str, y: str) -> float:\n",
    "    \"\"\" 取得条件次数表 \"\"\"\n",
    "    cft = pd.crosstab(df[y], df[x], margins=True)\n",
    "    \"\"\" 取得全部个案数目 \"\"\"\n",
    "    n = cft.at['All', 'All']\n",
    "    \"\"\" 初始化变量 \"\"\"\n",
    "    E_1 = E_2 = tau_y = 0\n",
    "\n",
    "    \"\"\" 计算E_1 \"\"\"\n",
    "    for i in range(cft.shape[0] - 1):\n",
    "        F_y = cft['All'][i]\n",
    "        E_1 += ((n - F_y) * F_y) / n\n",
    "    \"\"\" 计算E_2 \"\"\"\n",
    "    for j in range(cft.shape[1] - 1):\n",
    "        for k in range(cft.shape[0] - 1):\n",
    "            F_x = cft.iloc[cft.shape[0] - 1, j]\n",
    "            f = cft.iloc[k, j]\n",
    "            E_2 += ((F_x - f) * f) / F_x\n",
    "    \"\"\" 计算tauy \"\"\"\n",
    "    tau_y = (E_1 - E_2) / E_1\n",
    "\n",
    "    return tau_y\n",
    "\n",
    "\n",
    "def 有序变量描述统计函数(表名, 变量名):\n",
    "    result = 表名[变量名].value_counts(sort=False)\n",
    "    描述统计表 = pd.DataFrame(result)\n",
    "    描述统计表['比例'] = 描述统计表['count'] / 描述统计表['count'].sum()\n",
    "    描述统计表['累计比例'] = 描述统计表['比例'].cumsum()\n",
    "    return 描述统计表\n",
    "\n",
    "\n",
    "def 绘制直方图(表名):\n",
    "    x = 表名.index\n",
    "    y = 表名['count'].values\n",
    "    fig, ax2 = plt.subplots()\n",
    "    ax2.bar(x, y)\n",
    "    plt.show()"
   ]
  },
  {
   "cell_type": "code",
   "execution_count": 26,
   "metadata": {},
   "outputs": [],
   "source": [
    "import mytools"
   ]
  },
  {
   "cell_type": "code",
   "execution_count": 27,
   "metadata": {},
   "outputs": [
    {
     "data": {
      "text/plain": [
       "'弱相关'"
      ]
     },
     "execution_count": 27,
     "metadata": {},
     "output_type": "execute_result"
    }
   ],
   "source": [
    "mytools.相关系数判断(0.2056)"
   ]
  },
  {
   "cell_type": "code",
   "execution_count": 28,
   "metadata": {},
   "outputs": [],
   "source": [
    "数据表 = mytools.读取SPSS数据文件(R'data\\identity.sav',True)"
   ]
  },
  {
   "cell_type": "code",
   "execution_count": 29,
   "metadata": {},
   "outputs": [
    {
     "name": "stdout",
     "output_type": "stream",
     "text": [
      "0.011483646254089224\n"
     ]
    }
   ],
   "source": [
    "tau_y = mytools.goodmanKruska_tau_y(数据表,'政治面貌','发展信心')\n",
    "print(tau_y)"
   ]
  },
  {
   "cell_type": "code",
   "execution_count": 30,
   "metadata": {},
   "outputs": [
    {
     "data": {
      "text/plain": [
       "'极弱相关或无相关'"
      ]
     },
     "execution_count": 30,
     "metadata": {},
     "output_type": "execute_result"
    }
   ],
   "source": [
    "mytools.相关系数判断(tau_y)"
   ]
  },
  {
   "cell_type": "code",
   "execution_count": 31,
   "metadata": {},
   "outputs": [],
   "source": [
    "def my_function():  \n",
    "    # some code...  \n",
    "    return '极强相关'"
   ]
  },
  {
   "cell_type": "code",
   "execution_count": 32,
   "metadata": {},
   "outputs": [],
   "source": [
    "data_table = {'政治面貌': ['some values', 'some other values'], '年级': ['some grades', 'some other grades']}  \n",
    "x = data_table['政治面貌']  \n",
    "y = data_table['年级']"
   ]
  },
  {
   "cell_type": "code",
   "execution_count": 33,
   "metadata": {},
   "outputs": [],
   "source": [
    "import mytools"
   ]
  },
  {
   "cell_type": "code",
   "execution_count": 34,
   "metadata": {},
   "outputs": [],
   "source": [
    "def 相关系数判断(系数: int):  \n",
    "    \"\"\"  \n",
    "    判断相关系数的强弱  \n",
    "    \"\"\"  \n",
    "    if 系数 >= 0.8:  \n",
    "        return '极强相关'  \n",
    "    elif 系数 >= 0.6:  \n",
    "        return '强相关'  \n",
    "    elif 系数 >= 0.4:  \n",
    "        return '中等强度相关'   \n",
    "    elif 系数 >= 0.2:  \n",
    "        return '弱相关'   \n",
    "    else:  \n",
    "        return '极弱相关或无相关'"
   ]
  },
  {
   "cell_type": "code",
   "execution_count": 35,
   "metadata": {},
   "outputs": [
    {
     "data": {
      "text/plain": [
       "'弱相关'"
      ]
     },
     "execution_count": 35,
     "metadata": {},
     "output_type": "execute_result"
    }
   ],
   "source": [
    "mytools.相关系数判断(0.2056)"
   ]
  },
  {
   "cell_type": "code",
   "execution_count": 36,
   "metadata": {},
   "outputs": [],
   "source": [
    "数据表 = mytools.读取SPSS数据文件(R'data\\identity.sav', True)"
   ]
  },
  {
   "cell_type": "code",
   "execution_count": 37,
   "metadata": {},
   "outputs": [],
   "source": [
    "数据表=mytools.读取SPSS数据文件(R'data\\identity.sav',False)"
   ]
  },
  {
   "cell_type": "code",
   "execution_count": 38,
   "metadata": {},
   "outputs": [],
   "source": [
    "import pandas as pd\n",
    "from scipy import stats\n",
    "x=数据表['政治面貌']\n",
    "y=数据表['年级']\n"
   ]
  },
  {
   "cell_type": "code",
   "execution_count": 39,
   "metadata": {},
   "outputs": [
    {
     "name": "stdout",
     "output_type": "stream",
     "text": [
      "卡方值:69.53,p值:0.0000,自由度:12。\n"
     ]
    }
   ],
   "source": [
    "import pandas as pd  \n",
    "chi2, p, dof, ex = stats.chi2_contingency(pd.crosstab(x, y))  \n",
    "print(f\"卡方值:{chi2:.2f},p值:{p:.4f},自由度:{dof}。\")"
   ]
  },
  {
   "cell_type": "code",
   "execution_count": 40,
   "metadata": {},
   "outputs": [
    {
     "name": "stdout",
     "output_type": "stream",
     "text": [
      "tau_y系数: 0.0263 极弱相关或无相关\n",
      "年级         0.0       1.0       2.0       3.0       4.0       All\n",
      "政治面貌                                                            \n",
      "1.0   0.015029  0.300578  0.240462  0.108671  0.069364  0.734104\n",
      "2.0   0.000000  0.017341  0.038150  0.050867  0.024277  0.130636\n",
      "3.0   0.001156  0.032370  0.034682  0.030058  0.012717  0.110983\n",
      "4.0   0.000000  0.004624  0.008092  0.009249  0.002312  0.024277\n",
      "All   0.016185  0.354913  0.321387  0.198844  0.108671  1.000000\n",
      "卡方值： 69.53, p值： 0.0000,自由度:12。\n",
      "拒绝虚无假设\n"
     ]
    }
   ],
   "source": [
    "mytools.两个无序类别变量的统计分析(数据表,'政治面貌','年级')"
   ]
  },
  {
   "cell_type": "code",
   "execution_count": 41,
   "metadata": {},
   "outputs": [
    {
     "name": "stdout",
     "output_type": "stream",
     "text": [
      "tau_y系数: 0.0061 极弱相关或无相关\n",
      "会打多少分       1.0       2.0       3.0       4.0       5.0       All\n",
      "政治面貌                                                             \n",
      "1.0    0.021965  0.025434  0.115607  0.361850  0.209249  0.734104\n",
      "2.0    0.005780  0.002312  0.033526  0.053179  0.035838  0.130636\n",
      "3.0    0.003468  0.004624  0.028902  0.050867  0.023121  0.110983\n",
      "4.0    0.000000  0.000000  0.008092  0.010405  0.005780  0.024277\n",
      "All    0.031214  0.032370  0.186127  0.476301  0.273988  1.000000\n",
      "卡方值： 17.77, p值： 0.1230,自由度:12。\n",
      "接受虚无假设\n"
     ]
    }
   ],
   "source": [
    "mytools.两个无序类别变量的统计分析(数据表,'政治面貌','会打多少分')"
   ]
  },
  {
   "cell_type": "code",
   "execution_count": 42,
   "metadata": {},
   "outputs": [
    {
     "data": {
      "text/plain": [
       "SomersDResult(statistic=0.06601611129041819, pvalue=0.024274552468166795, table=array([[  0,   0,   5,   7,   2,   0],\n",
       "       [  6,   9,  39, 160,  93,   0],\n",
       "       [ 12,  14,  65, 114,  73,   0],\n",
       "       [  7,   3,  35,  88,  39,   0],\n",
       "       [  2,   2,  17,  43,  30,   0],\n",
       "       [  0,   0,   2,   1,   0,  37]]))"
      ]
     },
     "execution_count": 42,
     "metadata": {},
     "output_type": "execute_result"
    }
   ],
   "source": [
    "from scipy.stats import somersd\n",
    "\"\"\"x,y 应该为定序变量，次序是关键！\"\"\"\n",
    "x = 数据表['年级'].astype('category')  \n",
    "y = 数据表['会打多少分'].astype('category')\n",
    "result = somersd(x,y)\n",
    "result.statistic\n",
    "somersd(x,y)"
   ]
  },
  {
   "cell_type": "code",
   "execution_count": 44,
   "metadata": {},
   "outputs": [
    {
     "name": "stdout",
     "output_type": "stream",
     "text": [
      "问卷编号                float64\n",
      "调查员                  object\n",
      "民族                  float64\n",
      "政治面貌                float64\n",
      "年级                  float64\n",
      "典型中国人               float64\n",
      "中国人特点               float64\n",
      "v1                  float64\n",
      "v2                  float64\n",
      "v3                  float64\n",
      "v4                  float64\n",
      "你是否了解重活民族的传统节日      float64\n",
      "v5                  float64\n",
      "您觉得中国怎么样            float64\n",
      "您认为中国有多少值得自豪的地方     float64\n",
      "您认为世界有多少比例的人尊重中国    float64\n",
      "对您而言作为一名中国人有多重要     float64\n",
      "会以中国人自豪吗            float64\n",
      "会隐瞒身份吗              float64\n",
      "会打多少分               float64\n",
      "国歌升起                float64\n",
      "世博会                 float64\n",
      "中国传统文化              float64\n",
      "发展信心                float64\n",
      "你会为中国运动员呐喊助威        float64\n",
      "遇到灾难时中国人应该伸出援手      float64\n",
      "你愿意加入其他国籍吗          float64\n",
      "中国人要为祖国统一奋斗吗        float64\n",
      "dtype: object\n",
      "Somers dy系数: 0.0740 极弱相关或无相关\n",
      "-  --  --  --  ---  --\n",
      "0   0   0   5    7   2\n",
      "1   6   9  39  160  93\n",
      "2  12  14  65  114  73\n",
      "3   7   3  35   88  39\n",
      "4   2   2  17   43  30\n",
      "-  --  --  --  ---  --\n",
      "p值： 0.0114\n",
      "拒绝虚无假设\n",
      "Somers dy系数: 0.0740 极弱相关或无相关\n",
      "-  --  --  --  ---  --\n",
      "0   0   0   5    7   2\n",
      "1   6   9  39  160  93\n",
      "2  12  14  65  114  73\n",
      "3   7   3  35   88  39\n",
      "4   2   2  17   43  30\n",
      "-  --  --  --  ---  --\n",
      "p值： 0.0114\n",
      "拒绝虚无假设\n"
     ]
    }
   ],
   "source": [
    "# 检查数据表中的列的数据类型  \n",
    "print(数据表.dtypes)  \n",
    "  \n",
    "# 如果需要，将'年级'和'会打多少分'转换为categorical类型  \n",
    "数据表['年级'] = 数据表['年级'].astype('category')  \n",
    "数据表['会打多少分'] = 数据表['会打多少分'].astype('category')  \n",
    "  \n",
    "# 现在你可以进行你的统计分析  \n",
    "mytools.两个有序类别变量的统计分析(数据表,'年级','会打多少分')\n",
    "mytools.两个有序类别变量的统计分析(数据表,'年级','会打多少分')\n"
   ]
  }
 ],
 "metadata": {
  "kernelspec": {
   "display_name": "Python 3",
   "language": "python",
   "name": "python3"
  },
  "language_info": {
   "codemirror_mode": {
    "name": "ipython",
    "version": 3
   },
   "file_extension": ".py",
   "mimetype": "text/x-python",
   "name": "python",
   "nbconvert_exporter": "python",
   "pygments_lexer": "ipython3",
   "version": "3.8.10"
  }
 },
 "nbformat": 4,
 "nbformat_minor": 2
}
